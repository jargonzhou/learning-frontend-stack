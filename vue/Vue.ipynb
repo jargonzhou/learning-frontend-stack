{
 "cells": [
  {
   "cell_type": "markdown",
   "id": "65df8c50",
   "metadata": {},
   "source": [
    "# Vue"
   ]
  },
  {
   "cell_type": "markdown",
   "id": "5e053403",
   "metadata": {},
   "source": [
    "# Introduction"
   ]
  },
  {
   "cell_type": "markdown",
   "id": "4f013750",
   "metadata": {},
   "source": [
    "> Vue (pronounced /vjuː/, like view) is a JavaScript framework for building user interfaces. It builds on top of standard HTML, CSS, and JavaScript and provides a declarative, component-based programming model that helps you efficiently develop user interfaces of any complexity.\n",
    "\n",
    "核心功能:\n",
    "- 声明式渲染declarative rendering: 基于标准HTML拓展了一套模板语法, 可以声明式的描述最终输出的HTML和JavaScript状态之间的关系.\n",
    "- 响应性reactivity: 自动跟踪JavaScript状态, 并在其发生变化时响应式的更新DOM.\n"
   ]
  },
  {
   "cell_type": "markdown",
   "id": "4de9edae",
   "metadata": {},
   "source": [
    "渐进式框架(progressive framework)"
   ]
  },
  {
   "cell_type": "markdown",
   "id": "4a106d30",
   "metadata": {},
   "source": [
    "SFC(Single-File Components) 单文件组件: 将一个组件的逻辑JavaScript, 模板HTML和样式CSS封装在同一个文件里."
   ]
  },
  {
   "cell_type": "markdown",
   "id": "016a753f",
   "metadata": {},
   "source": [
    "API风格: Vue组件风格\n",
    "- 选项式API(Options): 用包含多个选项的对象来描述组件的逻辑.\n",
    "  - 场景: 不需要构建工具, 低复杂度场景\n",
    "- 组合式API: 使用导入的API函数来描述组件逻辑. `<script setup>`\n",
    "  - 场景: 构建完整的单页应用"
   ]
  },
  {
   "cell_type": "markdown",
   "id": "4c33d33c",
   "metadata": {},
   "source": [
    "# Learning Vue, 2024"
   ]
  },
  {
   "cell_type": "markdown",
   "id": "6999a1f1",
   "metadata": {},
   "source": [
    "\n",
    "- Node.js: 16.14.2\n",
    "- npm: 7.x\n",
    "- yarn\n",
    "- Vue Devtools\n",
    "- Vite.js\n",
    "- Vue CLI tool"
   ]
  },
  {
   "cell_type": "markdown",
   "id": "2869f4ff",
   "metadata": {},
   "source": [
    "- transpiler: compile and translate Vue code into equvalent HTML/CSS/JavaScript code in build time before deploying\n",
    "- standaline mode: with a generated script file, Vue engine perfrom the code translation at run-time\n",
    "- MVVM: Model-View-ViewModel\n",
    "  - ViewModel: binder that binds data between View and Model, allowing direct communication for the view and model progressively enable the component's reactivity.\n",
    "- SPA: single-page application "
   ]
  },
  {
   "cell_type": "markdown",
   "id": "206ee804",
   "metadata": {},
   "source": [
    "ecosystem:\n",
    "- Vue Router, Vuex, Pinia\n",
    "\n",
    "```shell\n",
    "npm init vue@latest\n",
    "\n",
    "   cd learning-vue-app\n",
    "   npm install\n",
    "   npm run format\n",
    "   npm run dev\n",
    "```\n"
   ]
  },
  {
   "cell_type": "markdown",
   "id": "07300e48",
   "metadata": {},
   "source": [
    "# How Vue works"
   ]
  },
  {
   "cell_type": "markdown",
   "id": "05329d50",
   "metadata": {},
   "source": [
    "解析和画DOM屏幕: 多个节点时, 查询和更新节点比较耗时.\n",
    "\n",
    "Virtual DOM: 虚拟文档对象模型\n",
    "- 浏览器中实际DOM的内存中虚拟拷贝版本, 更为轻量, 有额外的功能.\n",
    "- 仍使用DOM API来构造和渲染浏览器中更新的元素: 批量同步.\n",
    "- 在实际DOM和Vue应用代码之间: VNode虚拟节点表示实际DOM中的元素, 更新不会导致DOM重画\n",
    "  - 跟踪虚拟DOM特定的更改, 在一个更新周期内使用一个渲染函数调用实际DOM的更新"
   ]
  },
  {
   "cell_type": "markdown",
   "id": "72919e57",
   "metadata": {},
   "source": [
    "应用实例: `createApp()`\n",
    "将根组件挂载到HTML元素上: `mount()`\n",
    "\n",
    "选项API:\n",
    "- 状态处理: `data()`, `computed`, `methods`, `watch`\n",
    "- 渲染: `template`, `render()`\n",
    "- 生命周期hook: `beforeCreate()`, `created()`, `mounted()`\n",
    "- 其他: `provide()`, `inject()`, `components`"
   ]
  },
  {
   "cell_type": "markdown",
   "id": "a85dacbd",
   "metadata": {},
   "source": [
    "响应式reactivity\n",
    "- 定义本地数据后, Vue3使用ES5基于代理的机制建立数据的getter/setter, 开启相关的数据响应性\n",
    "- 建立响应性机制后, 使用watcher对象跟踪setter触发的数据更新, 将虚拟DOM的改变和更新放到队列系统中.\n",
    "- 队列消费: `nextTick()`, 消费和刷出watcher\n",
    "- 触发每个watcher的`run()`: 更新组件的实际DOM, 执行应用渲染"
   ]
  },
  {
   "cell_type": "markdown",
   "id": "1ad3aa52",
   "metadata": {},
   "source": [
    "双向绑定two-way binding: 如何在组件逻辑和它的视图模板之间同步数据.\n",
    "\n",
    "`v-model`指令: 绑定`v-model`指令到组件的数据模型, 会在数据模型变化时自动触发模板更新, 反之亦然.\n",
    "- `v-model.lazy`: 只在输入元素的`onChange`事件触发时跟踪变更."
   ]
  },
  {
   "cell_type": "markdown",
   "id": "e1b8755b",
   "metadata": {},
   "source": [
    "`{{}}`: 单向数据注入\n",
    "\n",
    "`v-bind`: 单向绑定数据到其它元素的属性值, 或者其它Vue组件的props\n",
    "\n",
    "```javascript\n",
    "v-bind:<attribute>=\"<expression>\"\n",
    ":<attribute>=\"<expression>\"\n",
    "```"
   ]
  },
  {
   "cell_type": "markdown",
   "id": "c13ba928",
   "metadata": {},
   "source": [
    "`v-for`: 迭代数据集合\n",
    "\n",
    "```javascript\n",
    "v-for = \"elem in list\"\n",
    "v-for = \"(value, name) in collection\"\n",
    "```"
   ]
  },
  {
   "cell_type": "markdown",
   "id": "fbcc086d",
   "metadata": {},
   "source": [
    "`v-on`/`@`: 作为元素标签, 绑定DOM事件到listener\n",
    "\n",
    "```javascript\n",
    "v-on:<event>=\"<inline JavaScript code / name of method>\"\n",
    "@<event>=...\n",
    "```\n",
    "\n",
    "处理事件Event:\n",
    "```javascript\n",
    "// phases: bubbling, capturing, target\n",
    "v-on:<event>.<modifier>\n",
    "```\n",
    "\n",
    "检测键盘事件: KeyboardEvent, keyCode\n",
    "```javascript\n",
    "// example\n",
    "@keydown.enter=\"onEnter\"\n",
    "```"
   ]
  },
  {
   "cell_type": "markdown",
   "id": "92950f60",
   "metadata": {},
   "source": [
    "条件渲染元素: `v-if`, `v-else`, `v-else-if`"
   ]
  },
  {
   "cell_type": "markdown",
   "id": "a4350686",
   "metadata": {},
   "source": [
    "条件显示元素: `v-show`, 使用CSS `display`规则."
   ]
  },
  {
   "cell_type": "markdown",
   "id": "2274737c",
   "metadata": {},
   "source": [
    "动态显示HTML代码: `v-html`"
   ]
  },
  {
   "cell_type": "markdown",
   "id": "0ecacfce",
   "metadata": {},
   "source": [
    "显示文本内容: `v-text`"
   ]
  },
  {
   "cell_type": "markdown",
   "id": "e5c1cdeb",
   "metadata": {},
   "source": [
    "优化渲染:\n",
    "- `v-once`: 定义一块元素作为静态内容\n",
    "- `v-memo`: 条件的记忆模板中一块组件, 例如前一个图片和当前图片"
   ]
  },
  {
   "cell_type": "markdown",
   "id": "3b0166ed",
   "metadata": {},
   "source": [
    "`Vue.component()`: 全局的注册组件\n",
    "- 组件实例: 从模块导入的SFC, 或者包含组件配置的对象(Options API)"
   ]
  },
  {
   "cell_type": "markdown",
   "id": "613ebc05",
   "metadata": {},
   "source": [
    "# 组合组件"
   ]
  },
  {
   "cell_type": "markdown",
   "id": "2b7b8806",
   "metadata": {},
   "source": [
    "SFC结构: *.vue\n",
    "- 模板template: HTML代码块, 渲染组件的UI视图. 只在每个组件最高层级出现一次.\n",
    "- 脚本script: JavaScript代码块, 包含组件的逻辑. 每个组件文件最多出现一次. `lang=\"ts\"`\n",
    "- 风格style: CSS代码块, 包含组件的缝合. 可选的, 每个组件文件中可以出现多次."
   ]
  },
  {
   "cell_type": "markdown",
   "id": "8130c8fe",
   "metadata": {},
   "source": [
    "`defineComponent()`: 包裹函数, 接受配置对象, 返回定义的组件\n",
    "- 场景: 复杂的组件, 例如使用`this`访问组件的属性"
   ]
  },
  {
   "cell_type": "markdown",
   "id": "1058de73",
   "metadata": {},
   "source": [
    "组件的生命周期阶段: [more](https://cn.vuejs.org/guide/essentials/lifecycle.html)\n",
    "- 初始化阶段\n",
    "- 创建节点\n",
    "- 首次渲染阶段\n",
    "- 挂载阶段\n",
    "- 更新阶段\n",
    "- 取消挂载阶段\n",
    "\n",
    "<img src=\"https://cn.vuejs.org/assets/lifecycle_zh-CN.W0MNXI0C.png\" width=\"800\"/>"
   ]
  },
  {
   "cell_type": "markdown",
   "id": "a234c49b",
   "metadata": {},
   "source": [
    "hooks:\n",
    "- setup(props, context): 组合式API, 在实例化组件之前(无法访问this)\n",
    "  - `h()`渲染函数: 返回基于props, context参数的组件渲染器\n",
    "- beforeCreate: 在渲染器创建组件实例之前, 已实例化组件, 但没有触发`data()`返回或计算`computed`属性. - 没有响应性数据\n",
    "- created: 创建组件实例之后, 带有响应性数据, watcher, 已计算的属性, 已定义的方法. - 没有挂载到DOM\n",
    "- beforeMount: 已创建组件实例, 编译了模板, 在首次渲染组件之前执行\n",
    "- mounted: 在首次渲染组件之后执行, 可以使用`++`属性访问组件渲染出的DOM节点\n",
    "- beforeUpdate: 渲染器在当本地数据状态变化时更新组件的DOM树. 该hook在更新过程开始后执行, 仍可以修改组件内部的状态.\n",
    "- updated: 在渲染器更新组件的DOM树之后执行.\n",
    "- beforeUnmount: 在渲染器开始取消挂载组件之前执行. - 组件的DOM节点`$el`仍可用.\n",
    "- unmounted: 在取消挂载过程处理成功, 组件实例不在可用之后执行. 该hook可以清理额外的观察者, 例如DOM事件listener.\n",
    "\n",
    "\n",
    "其他:\n",
    "\n",
    "- errorCaptured\n",
    "- renderTracked\n",
    "- renderTriggered\n",
    "- activated\n",
    "- deactivated\n",
    "- serverPrefetch"
   ]
  },
  {
   "cell_type": "markdown",
   "id": "6ab48e4d",
   "metadata": {},
   "source": [
    "方法`methods`: 不依赖于组件数据的逻辑, 可以在方法内部使用`this`访问组件的本地状态"
   ]
  },
  {
   "cell_type": "markdown",
   "id": "acb7c311",
   "metadata": {},
   "source": [
    "计算的属性: 从任意组件的响应式数据计算出新的响应性数据.\n",
    "- 是一个在`computed`属性字段中的一个返回值的函数\n",
    "- Vue引擎自动缓存计算的属性, 在相关响应性数据变更时重新计算"
   ]
  },
  {
   "cell_type": "markdown",
   "id": "83c7ea97",
   "metadata": {},
   "source": [
    "watcher: 编程的方式观察任意组件中响应性数据属性的变更, 并相应处理.\n",
    "- `watch`\n",
    "```javascript\n",
    "watch: {\n",
    "  'reactiveDataPropertyName'(newValue, oldValue) {\n",
    "    // ...\n",
    "  }\n",
    "}\n",
    "```\n",
    "- watcher对象的字段\n",
    "  - `handler`: 目标数据值改变时触发的回调函数\n",
    "  - `deep`: 是否观察目标数据的内嵌属性\n",
    "  - `immediate`: 是否在挂载组件之后立即触发handler\n",
    "  - `flush`: 默认在更新组件之前触发handler - `pre`, `post`\n",
    "\n",
    "`this.$watch()`: 在创建组件时条件化的创建watcher - `created`"
   ]
  },
  {
   "cell_type": "markdown",
   "id": "2de3a55d",
   "metadata": {},
   "source": [
    "槽`<slot>`: 需要时动态的替换元素的默认UI\n",
    "```javascript\n",
    "// 替换\n",
    "<template v-slot:slot-name></template>\n",
    "<template #slot-name></template>\n",
    "```"
   ]
  },
  {
   "cell_type": "markdown",
   "id": "771dda2d",
   "metadata": {},
   "source": [
    "`ref`: Vue内置属性, 获得DOM元素或挂载的子实例的之间引用"
   ]
  },
  {
   "cell_type": "markdown",
   "id": "adcb2b41",
   "metadata": {},
   "source": [
    "使用mixin共享组件配置: `mixins`\n",
    "- example: `restaurantMixin`, `DiningComponent`, `CafeComponent`\n",
    "- 类似于继承, 但Vue引擎先调用mixin的hook, 再调用组件的hook"
   ]
  },
  {
   "cell_type": "markdown",
   "id": "b6766f83",
   "metadata": {},
   "source": [
    "`<style scoped>`: 将CSS规则应用到组件内的元素上, 不会泄露出去\n",
    "- 使用`:deep()`伪类: 覆盖或扩展子组件的风格\n",
    "- `v-bind()`: 在风格tag中访问组件的数据值"
   ]
  },
  {
   "cell_type": "markdown",
   "id": "a6585e9a",
   "metadata": {},
   "source": [
    "CSS模块`<style module>`: 正常的编写CSS, 在`template`和`script`中的JavaScript对象中使用.\n",
    "- `$style.xxx`"
   ]
  },
  {
   "cell_type": "markdown",
   "id": "a00d06e8",
   "metadata": {},
   "source": [
    "# 组件之间的交互"
   ]
  },
  {
   "cell_type": "markdown",
   "id": "1a1ad1be",
   "metadata": {},
   "source": [
    "内嵌组件\n",
    "- 父组件使用`props`传递数据给子组件\n",
    "- 子组件使用自定义事件`emits`提交事件到父组件"
   ]
  },
  {
   "cell_type": "markdown",
   "id": "3f2ef0cc",
   "metadata": {},
   "source": [
    "Vue类型验证声明语法\n",
    "- `type`\n",
    "- `default`\n",
    "- `required`\n",
    "- `validator`\n",
    "\n",
    "自定义类型检查:\n",
    "- `class`\n",
    "- `interface`, `type`: TypeScript, 必须使用Vue的`PropType`"
   ]
  },
  {
   "cell_type": "markdown",
   "id": "d350ce00",
   "metadata": {},
   "source": [
    "使用`defineProps`在`<script setup>`块中声明props\n",
    "\n",
    "props的默认值: `withDefaults`"
   ]
  },
  {
   "cell_type": "markdown",
   "id": "2ecb3d89",
   "metadata": {},
   "source": [
    "- 组件选项`emits`字段\n",
    "- `defineEmits()`: 定义自定义事件"
   ]
  },
  {
   "cell_type": "markdown",
   "id": "f5d644eb",
   "metadata": {},
   "source": [
    "使用provide/inject模式处理组件之间的通信\n",
    "- `provide`: 从ancestor传递数据\n",
    "- `inject`: 确保Vue注入提供的数据到目标descendant"
   ]
  },
  {
   "cell_type": "markdown",
   "id": "c4701d41",
   "metadata": {},
   "source": [
    "Teleport API: `<Teleport>`, 实现组件中包含需要在实际DOM的不同位置渲染的元素\n",
    "- 例: 模态框`<dialog>`"
   ]
  },
  {
   "cell_type": "markdown",
   "id": "58607a90",
   "metadata": {},
   "source": [
    "# 组合式API"
   ]
  },
  {
   "cell_type": "markdown",
   "id": "71a161e6",
   "metadata": {},
   "source": [
    "Vue 3.0引入组合式API, 使用`setup()` hook或`<script setup>` tag组装有状态的和响应式的组件.\n",
    "\n",
    "\n",
    "处理数据: `ref()`, `reactive()`\n",
    "- `ref`的对象类型是数组或对象时, ref对象和内嵌属性都是可变的\n",
    "- `shallowRef()`: 创建响应式类型的数据, 之后使用新值替换\n",
    "- `reactive()`: 创建响应式类型的数据, 只更新它的属性 - 创建了原始对象的响应式proxy版本\n",
    "- `shallowReactive()`"
   ]
  },
  {
   "cell_type": "markdown",
   "id": "0349f55c",
   "metadata": {},
   "source": [
    "生命周期hook:\n",
    "- `onBeforeMoun()`\n",
    "- `onMounted()`\n",
    "- `onBeforeUpdate()`\n",
    "- `onUpdated()`\n",
    "- `onBeforeUnmount()`\n",
    "- `onUnmounted()`"
   ]
  },
  {
   "cell_type": "markdown",
   "id": "cd8827b6",
   "metadata": {},
   "source": [
    "组合式API中的watcher\n",
    "```javascript\n",
    "watch(\n",
    "  sources: WatchSource, // 观察的响应式数据, 单个响应式数据, 或者返回响应式数据的getter函数, 或者是前两者的数组\n",
    "  cb: (newValue: T, oldValue: T, cleanup: (func) => void) => any,\n",
    "  options? WatchOptions\n",
    "): WatchStopHandle\n",
    "```"
   ]
  },
  {
   "cell_type": "markdown",
   "id": "26f3aa93",
   "metadata": {},
   "source": [
    "`computed()`\n",
    "- 创建从其它响应式数据导出的响应式和缓存的值\n",
    "- 返回只读的引用对象"
   ]
  },
  {
   "cell_type": "markdown",
   "id": "91d74640",
   "metadata": {},
   "source": [
    "创建可重用的和有状态的hooks(称为composables)\n",
    "- 将状态管理逻辑和组件逻辑分开"
   ]
  },
  {
   "cell_type": "markdown",
   "id": "e213764f",
   "metadata": {},
   "source": [
    "# 与外部数据交互"
   ]
  },
  {
   "cell_type": "markdown",
   "id": "eaab6776",
   "metadata": {},
   "source": [
    "HTTP请求外部资源的选项:\n",
    "- `fetch`\n",
    "- `XMLHttpRequest`\n",
    "- Axios"
   ]
  },
  {
   "cell_type": "markdown",
   "id": "9c0b1974",
   "metadata": {},
   "source": [
    "创建可重用的fetch组件: 例`FetchComponent`\n",
    "\n",
    "slots:\n",
    "- `loading`\n",
    "- `data`\n",
    "- `error`"
   ]
  },
  {
   "cell_type": "markdown",
   "id": "73097f4f",
   "metadata": {},
   "source": [
    "# 高级渲染: 动态组件, 插件组合"
   ]
  },
  {
   "cell_type": "markdown",
   "id": "6e1bc8ab",
   "metadata": {},
   "source": [
    "`render()`: 直接从虚拟DOM返回渲染的虚拟节点, 跳过模板编译过程.\n",
    "\n",
    "Vue3中导出全局函数`h`创建VNode\n",
    "```javascript\n",
    "h(component, {/* props */}, children)\n",
    "```"
   ]
  },
  {
   "cell_type": "markdown",
   "id": "0fcd581c",
   "metadata": {},
   "source": [
    "JSX(JavaScript XML): 最早由React框架引入的JavaScript扩展, 允许在JavaScript中编写HTML代码. Vue 3.0开始支持."
   ]
  },
  {
   "cell_type": "markdown",
   "id": "57f42baa",
   "metadata": {},
   "source": [
    "函数式组件: 无状态的组件, 绕过典型的组件生命周期\n",
    "- 一个函数, 表示组件的渲染函数: `h`\n",
    "- 定义`props`, `emits`"
   ]
  },
  {
   "cell_type": "markdown",
   "id": "e69f2125",
   "metadata": {},
   "source": [
    "Vue插件\n",
    "- `install`\n",
    "- `app.use()`\n",
    "- 使用地方: `<template>`, `this.$truncate`, `<script setup>/setup()`(使用provide/inject模式)"
   ]
  },
  {
   "cell_type": "markdown",
   "id": "627942f3",
   "metadata": {},
   "source": [
    "使用`<component>`tag动态渲染"
   ]
  },
  {
   "cell_type": "markdown",
   "id": "63f8160b",
   "metadata": {},
   "source": [
    "`<keep-alive>`: 内置Vue组件, 包裹动态元素, 在非激活模式下保留组件的状态."
   ]
  },
  {
   "cell_type": "markdown",
   "id": "4e35131c",
   "metadata": {},
   "source": [
    "# 路由"
   ]
  },
  {
   "cell_type": "markdown",
   "id": "44e1945a",
   "metadata": {},
   "source": [
    "URL: Location, Path, Query Parameters, Anchor"
   ]
  },
  {
   "cell_type": "markdown",
   "id": "b9fceab8",
   "metadata": {},
   "source": [
    "Vue Router\n",
    "- `router`\n",
    "- `views`"
   ]
  },
  {
   "cell_type": "markdown",
   "id": "0cbea4f6",
   "metadata": {},
   "source": [
    "running example: a pizza ordering system\n",
    "- HomeView: `/`\n",
    "- AboutView: `/about`\n",
    "- PizzasView: `/pizzas`\n",
    "- ContactView: `/contact`\n",
    "- LoginView: `/login`"
   ]
  },
  {
   "cell_type": "markdown",
   "id": "2f6b1753",
   "metadata": {},
   "source": [
    "`router/index.ts`: `vue-router` package\n",
    "- `RouterRecordRaw` \n",
    "- `createRouter(RouterOptions)`"
   ]
  },
  {
   "cell_type": "markdown",
   "id": "1b400701",
   "metadata": {},
   "source": [
    "Vite暴露的环境对象: `import.meta.env`, 环境文件`*.env`"
   ]
  },
  {
   "cell_type": "markdown",
   "id": "bf8cf520",
   "metadata": {},
   "source": [
    "`app.use(router)`"
   ]
  },
  {
   "cell_type": "markdown",
   "id": "70a91062",
   "metadata": {},
   "source": [
    "动态生成特定URL路径的view: `RouterView`/`router-view`组件\n",
    "\n",
    "使用`RouterLink`/`router-link`组件生成导航栏"
   ]
  },
  {
   "cell_type": "markdown",
   "id": "99637e8a",
   "metadata": {},
   "source": [
    "在路由之间传递参数\n",
    "- `query`\n",
    "- `useRoute()`\n",
    "\n",
    "使用查询参数..."
   ]
  },
  {
   "cell_type": "markdown",
   "id": "cf6ee225",
   "metadata": {},
   "source": [
    "navigation guard\n",
    "\n",
    "全局:\n",
    "- `router.beforeEach`\n",
    "- `router.beforeResolve`\n",
    "- `router.afterEach`\n",
    "\n",
    "路由层:\n",
    "- `beforeEnter`\n",
    "\n",
    "组件层:\n",
    "- `onBeforeRouteLeave`\n",
    "- `onBeforeRouteUpdate`"
   ]
  },
  {
   "cell_type": "markdown",
   "id": "ce82c8c8",
   "metadata": {},
   "source": [
    "创建内嵌路由: `children`"
   ]
  },
  {
   "cell_type": "markdown",
   "id": "12cf3f6a",
   "metadata": {},
   "source": [
    "创建动态路由: 使用从URL路径提取的变量作为路由参数"
   ]
  },
  {
   "cell_type": "markdown",
   "id": "3c98c51c",
   "metadata": {},
   "source": [
    "前后导航:\n",
    "- `router.back()`\n",
    "- `router.forward()`\n",
    "- `router.go()`"
   ]
  },
  {
   "cell_type": "markdown",
   "id": "a47fabca",
   "metadata": {},
   "source": [
    "处理未知路由:\n",
    "- `path`: `/:pathMatch(.)`\n",
    "- `component`/`redirect`"
   ]
  },
  {
   "cell_type": "markdown",
   "id": "66f0955b",
   "metadata": {},
   "source": [
    "# 状态管理: Pinia"
   ]
  },
  {
   "cell_type": "markdown",
   "id": "80af824c",
   "metadata": {},
   "source": [
    "受Vuex和Vue组合式API启发, Pinia是当前Vue的官方状态管理库.\n",
    "- 可以讲数据集拆分到状态模块module或存储store\n",
    "- `src/stores`\n",
    "\n",
    "store:\n",
    "- State: 使用`ref()`/`reactive()`创建的响应性数据\n",
    "- Getters: 使用`computed()`创建的只读属性\n",
    "- Actions: 更新状态或根据状态执行自定义的逻辑\n",
    "\n",
    "`defineStore()`\n",
    "\n",
    "`storeToRefs()`: 从store中提取数据, 并保持响应性\n",
    "\n",
    "单元测试: `setActivePinia()`\n",
    "\n",
    "订阅store变更的副作用:\n",
    "- `store.$id`\n",
    "- `store.$subscribe()`\n",
    "- `store.$onAction()`"
   ]
  },
  {
   "cell_type": "markdown",
   "id": "12ed47ce",
   "metadata": {},
   "source": [
    "# CSS动画: transition, animation\n",
    "\n",
    "- [ref](https://juejin.cn/post/7102073807317237797)"
   ]
  },
  {
   "cell_type": "markdown",
   "id": "034c3717",
   "metadata": {},
   "source": [
    "# CI/CD"
   ]
  },
  {
   "cell_type": "markdown",
   "id": "ebf41fc1",
   "metadata": {},
   "source": [
    "- GitHub Actions\n",
    "- Netlify"
   ]
  },
  {
   "cell_type": "markdown",
   "id": "bbd1e3b2",
   "metadata": {},
   "source": [
    "# 服务端渲染"
   ]
  },
  {
   "cell_type": "markdown",
   "id": "533a5e6e",
   "metadata": {},
   "source": [
    "SSR(Server-Side Rendering)\n",
    "- 在服务端编译成一个完整的可工作的HTML页面, 再按需传递给客户端浏览器, 而不是在浏览器中执行.\n",
    "\n",
    "Express.js\n",
    "\n",
    "- `vue`: `createSSRApp`\n",
    "- `vue/server-renderer`: `renderToString`\n",
    "\n",
    "\n",
    "Nuxt.js: Vue上的基于模块的SSR框架\n",
    "- 基于文件的路由系统\n",
    "- 性能优化\n",
    "- 不同的构建模式\n",
    "- ...\n",
    "\n",
    "SSG(Static Side Generetor): 一种SSR\n",
    "- 构建时生成和索引应用中所有页面, 按需把这些页面提供给浏览器. \n",
    "- 确保客户端的初始加载性能.\n",
    "- 适用于不需要动态内容的应用, 例如博客/文档."
   ]
  }
 ],
 "metadata": {
  "kernelspec": {
   "display_name": "base",
   "language": "python",
   "name": "python3"
  },
  "language_info": {
   "name": "python",
   "version": "3.12.3"
  }
 },
 "nbformat": 4,
 "nbformat_minor": 5
}
